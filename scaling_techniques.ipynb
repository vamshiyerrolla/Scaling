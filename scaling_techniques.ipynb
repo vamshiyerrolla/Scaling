{
 "cells": [
  {
   "cell_type": "code",
   "execution_count": 31,
   "metadata": {},
   "outputs": [],
   "source": [
    "import numpy as np "
   ]
  },
  {
   "cell_type": "code",
   "execution_count": 33,
   "metadata": {},
   "outputs": [],
   "source": [
    "#creating sd formula:\n",
    "def sd(x):\n",
    "    num=((x-x.mean())**2).sum()\n",
    "    deno = x.size-1\n",
    "    return (num/deno)**0.5"
   ]
  },
  {
   "cell_type": "code",
   "execution_count": 34,
   "metadata": {},
   "outputs": [],
   "source": [
    "##scaling input feautures and labels for regression models:\n",
    "def scale(x):\n",
    "    num=x-x.mean()\n",
    "    den=sd(x)\n",
    "    return num/den"
   ]
  },
  {
   "cell_type": "code",
   "execution_count": 35,
   "metadata": {},
   "outputs": [],
   "source": [
    "##creating scalematrix:\n",
    "def scalematrix(m):\n",
    "    for i in range(m.shape[1]):\n",
    "        col=m[:,:]\n",
    "        m[:,:]=scale(col)\n",
    "        return m"
   ]
  },
  {
   "cell_type": "code",
   "execution_count": 36,
   "metadata": {},
   "outputs": [
    {
     "name": "stdout",
     "output_type": "stream",
     "text": [
      "['101,\"vamshi\",23,50,5.9,60\\n', '102,\"kanny\",32,55,5.6,62\\n', '103,\"sunny\",25,60,4.5,70\\n', '104,\"aero\",34,70,5.8,79\\n', '105,\"funny\",26,65,5.9,57\\n', '106,\"bunny\",28,75,6.1,89']\n"
     ]
    }
   ],
   "source": [
    "f=open(\"D:\\samples_data_DS\\samp_16.txt\")\n",
    "head=f.readline()\n",
    "lines=f.readlines()\n",
    "print(lines)"
   ]
  },
  {
   "cell_type": "code",
   "execution_count": 38,
   "metadata": {},
   "outputs": [
    {
     "name": "stdout",
     "output_type": "stream",
     "text": [
      "[[-0.6680371   0.31179097 -1.28859487  0.67469025]\n",
      " [-0.34142774  0.49324061 -1.29948185  0.74727011]\n",
      " [-0.59545724  0.67469025 -1.33940077  1.03758953]\n",
      " [-0.26884788  1.03758953 -1.29222386  1.36419888]\n",
      " [-0.55916731  0.85613989 -1.28859487  0.56582046]\n",
      " [-0.48658745  1.21903917 -1.28133688  1.72709817]]\n"
     ]
    }
   ],
   "source": [
    "m=[]\n",
    "for line in lines:\n",
    "    w=[float(v) for v in line.strip().split(\",\")[2:]]\n",
    "    m.append(w)\n",
    "M=np.array(m)\n",
    "S=scalematrix(M)\n",
    "print(S)"
   ]
  },
  {
   "cell_type": "code",
   "execution_count": 44,
   "metadata": {},
   "outputs": [
    {
     "name": "stdout",
     "output_type": "stream",
     "text": [
      "[[ 1.         -0.6680371   0.31179097 -1.28859487]\n",
      " [ 1.         -0.34142774  0.49324061 -1.29948185]\n",
      " [ 1.         -0.59545724  0.67469025 -1.33940077]\n",
      " [ 1.         -0.26884788  1.03758953 -1.29222386]\n",
      " [ 1.         -0.55916731  0.85613989 -1.28859487]\n",
      " [ 1.         -0.48658745  1.21903917 -1.28133688]]\n"
     ]
    }
   ],
   "source": [
    "##input matrix:\n",
    "x=np.ones(M.shape)\n",
    "x[:,1:]=M[:,:-1]\n",
    "print(x)"
   ]
  },
  {
   "cell_type": "code",
   "execution_count": 46,
   "metadata": {},
   "outputs": [
    {
     "name": "stdout",
     "output_type": "stream",
     "text": [
      "[[0.67469025]\n",
      " [0.74727011]\n",
      " [1.03758953]\n",
      " [1.36419888]\n",
      " [0.56582046]\n",
      " [1.72709817]]\n"
     ]
    }
   ],
   "source": [
    "##output or label matrix:\n",
    "y=np.c_[M[:,-1]]\n",
    "print(y)"
   ]
  }
 ],
 "metadata": {
  "kernelspec": {
   "display_name": "Python 3",
   "language": "python",
   "name": "python3"
  },
  "language_info": {
   "codemirror_mode": {
    "name": "ipython",
    "version": 3
   },
   "file_extension": ".py",
   "mimetype": "text/x-python",
   "name": "python",
   "nbconvert_exporter": "python",
   "pygments_lexer": "ipython3",
   "version": "3.7.3"
  }
 },
 "nbformat": 4,
 "nbformat_minor": 2
}
